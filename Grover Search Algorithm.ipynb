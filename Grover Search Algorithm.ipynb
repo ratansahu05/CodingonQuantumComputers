{
 "cells": [
  {
   "cell_type": "code",
   "execution_count": 19,
   "id": "fa08c058-79a8-4e6c-901e-2d5c77f1a240",
   "metadata": {},
   "outputs": [],
   "source": [
    "from qiskit import QuantumCircuit\n",
    "from qiskit.tools.visualization import circuit_drawer\n",
    "import numpy as np\n",
    "from matplotlib import pyplot as plt\n"
   ]
  },
  {
   "cell_type": "code",
   "execution_count": 3,
   "id": "3aac2c9f-4902-410a-bd46-daa99061d575",
   "metadata": {},
   "outputs": [
    {
     "data": {
      "image/png": "[encoded data removed]",
      "text/plain": [
       "<Figure size 387.597x325.08 with 1 Axes>"
      ]
     },
     "execution_count": 3,
     "metadata": {},
     "output_type": "execute_result"
    }
   ],
   "source": [
    "n=5\n",
    "qc = QuantumCircuit(n)\n",
    "qc.x(1)\n",
    "qc.ccx(0, 1, 3)\n",
    "qc.ccx(2, 3, 4)\n",
    "qc.ccx(0, 1, 3)\n",
    "qc.x(1)\n",
    "qc.draw('mpl')"
   ]
  },
  {
   "cell_type": "code",
   "execution_count": 4,
   "id": "9d8bf13d-7d76-4238-850d-1605f28132a9",
   "metadata": {},
   "outputs": [],
   "source": [
    "def phase_oracle(n, name = 'Uf'):\n",
    "    qc = QuantumCircuit(n, name = name)\n",
    "    qc.x(1)\n",
    "    qc.ccx(0, 1, 3)\n",
    "    qc.ccx(2, 3, 4)\n",
    "    qc.ccx(0, 1, 3)\n",
    "    qc.x(1)\n",
    "    return qc"
   ]
  },
  {
   "cell_type": "code",
   "execution_count": 5,
   "id": "457f3a5a-8154-4eb5-8ed5-b28473e0ed1e",
   "metadata": {},
   "outputs": [
    {
     "data": {
      "image/png": "[encoded data removed]",
      "text/plain": [
       "<Figure size 387.597x325.08 with 1 Axes>"
      ]
     },
     "execution_count": 5,
     "metadata": {},
     "output_type": "execute_result"
    }
   ],
   "source": [
    "n=5\n",
    "qc = QuantumCircuit(n)\n",
    "for i in range(n-2):\n",
    "    qc.x(i)\n",
    "qc.ccx(0, 1, 3)\n",
    "qc.ccx(2, 3, 4)\n",
    "qc.ccx(0, 1, 3)\n",
    "for i in range(n-2):\n",
    "    qc.x(i)\n",
    "qc.draw('mpl')"
   ]
  },
  {
   "cell_type": "code",
   "execution_count": 6,
   "id": "da629b9b-8df2-478b-98fb-f6e71b790d4b",
   "metadata": {},
   "outputs": [],
   "source": [
    "def diffuser(n, name= 'V'):\n",
    "    qc = QuantumCircuit(n, name =name)\n",
    "\n",
    "    for qb in range(n-2): # First layer of Hadamards in diffuser\n",
    "        qc.h(qb)\n",
    "        \n",
    "    for i in range(n-2):\n",
    "        qc.x(i)\n",
    "    qc.ccx(0, 1, 3)\n",
    "    qc.ccx(2, 3, 4)\n",
    "    qc.ccx(0, 1, 3)\n",
    "    for i in range(n-2):\n",
    "        qc.x(i) \n",
    "        \n",
    "    for qb in range(n-2): # Second layer of Hadamards in diffuser\n",
    "        qc.h(qb)\n",
    "        \n",
    "    return qc    "
   ]
  },
  {
   "cell_type": "code",
   "execution_count": 7,
   "id": "82c5d2bc-261f-4086-b85b-dd0476ce6555",
   "metadata": {},
   "outputs": [
    {
     "name": "stdout",
     "output_type": "stream",
     "text": [
      "r =  2\n"
     ]
    },
    {
     "data": {
      "image/png": "[encoded data removed]",
      "text/plain": [
       "<Figure size 628.397x385.28 with 1 Axes>"
      ]
     },
     "execution_count": 7,
     "metadata": {},
     "output_type": "execute_result"
    }
   ],
   "source": [
    "n=5\n",
    "gr = QuantumCircuit(n, n-2)\n",
    "mu = 1 #number of solutions\n",
    "\n",
    "r = int(np.floor(np.pi/4*np.sqrt(2**(n-2)/mu))) #determine r\n",
    "print('r = ',r)\n",
    "\n",
    "gr.h(range(n-2)) #step1: apply Hadamard gates on all working qubits\n",
    "\n",
    "#put ancilla in state |->\n",
    "gr.x(n-1)\n",
    "gr.h(n-1)\n",
    "\n",
    "#step 2: apply r rounds of the phase oracle and the diffuser\n",
    "for j in range(r):\n",
    "    gr.append(phase_oracle(n), range(n))\n",
    "    gr.append(diffuser(n), range(n))\n",
    "    \n",
    "gr.measure(range(n-2), range(n-2))    #step 3: measure all qubits\n",
    "\n",
    "gr.draw('mpl')"
   ]
  },
  {
   "cell_type": "code",
   "execution_count": null,
   "id": "b9a3fe62-ffb7-4c32-942b-6f53bf24b316",
   "metadata": {},
   "outputs": [],
   "source": [
    "from qiskit import BasicAer, Aer, execute, IBMQ\n",
    "from qiskit.visualization import plot_histogram\n",
    "\n",
    "simulator = Aer.get_backend('qasm_simulator')\n",
    "result = execute(gr, backend = simulator, shots = 1024).result()\n",
    "counts = result.get_counts()\n",
    "plot_histogram(counts)"
   ]
  },
  {
   "cell_type": "code",
   "execution_count": 15,
   "id": "47c4ae66-8ce0-4550-a948-ba89908d171a",
   "metadata": {},
   "outputs": [
    {
     "name": "stderr",
     "output_type": "stream",
     "text": [
      "configrc.store_credentials:WARNING:2022-07-19 20:01:54,748: Credentials already present. Set overwrite=True to overwrite.\n"
     ]
    }
   ],
   "source": [
    "from qiskit import IBMQ\n",
    "IBMQ.save_account('e19ab1a54fb68a1937a725b48b02eafb8af0db9189107e78762686e5bf12dff5642e1597470d966ea9d2e121cc86f4a0f08bea5d5e760de66c7be7be04fd2974')"
   ]
  },
  {
   "cell_type": "code",
   "execution_count": 17,
   "id": "d8fc6dc3-3de1-4b04-a76e-6beedf226771",
   "metadata": {},
   "outputs": [
    {
     "name": "stderr",
     "output_type": "stream",
     "text": [
      "ibmqfactory.load_account:WARNING:2022-07-19 20:02:19,337: Credentials are already in use. The existing account in the session will be replaced.\n"
     ]
    },
    {
     "name": "stdout",
     "output_type": "stream",
     "text": [
      "62d70dcf14bf8fa15f0d0d73\n",
      "Job Status: job has successfully run\n"
     ]
    }
   ],
   "source": [
    "IBMQ.load_account()\n",
    "provider = IBMQ.get_provider(hub = 'ibm-q')\n",
    "device = provider.get_backend('ibmq_qasm_simulator')\n",
    "job = execute(gr, backend=device, shots=1024)\n",
    "print(job.job_id())\n",
    "from qiskit.tools.monitor import job_monitor\n",
    "job_monitor(job)"
   ]
  },
  {
   "cell_type": "code",
   "execution_count": 18,
   "id": "c6d34e73-0bba-4b8a-8b96-8a617fde6838",
   "metadata": {},
   "outputs": [
    {
     "data": {
      "image/png": "[encoded data removed]",
      "text/plain": [
       "<Figure size 504x360 with 1 Axes>"
      ]
     },
     "execution_count": 18,
     "metadata": {},
     "output_type": "execute_result"
    }
   ],
   "source": [
    "device_result = job.result()\n",
    "plot_histogram(device_result.get_counts(gr))"
   ]
  },
  {
   "cell_type": "code",
   "execution_count": null,
   "id": "a4c41170-9321-4fbd-9b4d-153a15c4f7ec",
   "metadata": {},
   "outputs": [],
   "source": []
  }
 ],
 "metadata": {
  "kernelspec": {
   "display_name": "Python 3 (ipykernel)",
   "language": "python",
   "name": "python3"
  },
  "language_info": {
   "codemirror_mode": {
    "name": "ipython",
    "version": 3
   },
   "file_extension": ".py",
   "mimetype": "text/x-python",
   "name": "python",
   "nbconvert_exporter": "python",
   "pygments_lexer": "ipython3",
   "version": "3.8.13"
  },
  "widgets": {
   "application/vnd.jupyter.widget-state+json": {
    "state": {},
    "version_major": 2,
    "version_minor": 0
   }
  }
 },
 "nbformat": 4,
 "nbformat_minor": 5
}
